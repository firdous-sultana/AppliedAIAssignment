{
  "nbformat": 4,
  "nbformat_minor": 0,
  "metadata": {
    "kernelspec": {
      "display_name": "Python 3",
      "language": "python",
      "name": "python3"
    },
    "language_info": {
      "codemirror_mode": {
        "name": "ipython",
        "version": 3
      },
      "file_extension": ".py",
      "mimetype": "text/x-python",
      "name": "python",
      "nbconvert_exporter": "python",
      "pygments_lexer": "ipython3",
      "version": "3.7.1"
    },
    "colab": {
      "name": "Assignment1.ipynb",
      "provenance": []
    }
  },
  "cells": [
    {
      "cell_type": "code",
      "metadata": {
        "id": "qq8nbY7nXwr0",
        "colab_type": "code",
        "colab": {
          "base_uri": "https://localhost:8080/",
          "height": 185
        },
        "outputId": "f7e29781-b095-45ad-f715-77991d4ec663"
      },
      "source": [
        "#1.  Write a function that inputs a number and prints the multiplication table of that number\n",
        "def table(x):\n",
        "    for i in range(1, 11):\n",
        "        print(x, \"*\", i, \"=\", x*i)\n",
        "table(2)"
      ],
      "execution_count": 3,
      "outputs": [
        {
          "output_type": "stream",
          "text": [
            "2 * 1 = 2\n",
            "2 * 2 = 4\n",
            "2 * 3 = 6\n",
            "2 * 4 = 8\n",
            "2 * 5 = 10\n",
            "2 * 6 = 12\n",
            "2 * 7 = 14\n",
            "2 * 8 = 16\n",
            "2 * 9 = 18\n",
            "2 * 10 = 20\n"
          ],
          "name": "stdout"
        }
      ]
    },
    {
      "cell_type": "code",
      "metadata": {
        "id": "ebeQRwqlXwsK",
        "colab_type": "code",
        "colab": {
          "base_uri": "https://localhost:8080/",
          "height": 605
        },
        "outputId": "0fe8b84c-33ce-4b09-842d-ae02d6f65e4d"
      },
      "source": [
        "#2. Write a program to print twin primes less than 1000. If two consecutive odd numbers are\n",
        "# both prime then they are known as twin primes\n",
        "import math\n",
        "def chk_prime(x):\n",
        "    if(x<2):\n",
        "        return False\n",
        "    elif x==2:\n",
        "        return True\n",
        "    for i in range(2, int(math.sqrt(x))+1):\n",
        "        if(x % i == 0):\n",
        "            return False\n",
        "            break\n",
        "    return True\n",
        "for i in range(0, 1001):\n",
        "    a = i\n",
        "    b = i+2\n",
        "    if chk_prime(a) and chk_prime(b):\n",
        "        print(a, b)"
      ],
      "execution_count": 4,
      "outputs": [
        {
          "output_type": "stream",
          "text": [
            "3 5\n",
            "5 7\n",
            "11 13\n",
            "17 19\n",
            "29 31\n",
            "41 43\n",
            "59 61\n",
            "71 73\n",
            "101 103\n",
            "107 109\n",
            "137 139\n",
            "149 151\n",
            "179 181\n",
            "191 193\n",
            "197 199\n",
            "227 229\n",
            "239 241\n",
            "269 271\n",
            "281 283\n",
            "311 313\n",
            "347 349\n",
            "419 421\n",
            "431 433\n",
            "461 463\n",
            "521 523\n",
            "569 571\n",
            "599 601\n",
            "617 619\n",
            "641 643\n",
            "659 661\n",
            "809 811\n",
            "821 823\n",
            "827 829\n",
            "857 859\n",
            "881 883\n"
          ],
          "name": "stdout"
        }
      ]
    },
    {
      "cell_type": "code",
      "metadata": {
        "id": "LTnHVHo8XwsY",
        "colab_type": "code",
        "colab": {}
      },
      "source": [
        "# 3. Write a program to find out the prime factors of a number. Example: prime factors of 56 -\n",
        "# 2, 2, 2, 7\n",
        "def prime_factors(n):\n",
        "    while(n%2==0):\n",
        "        print(2)\n",
        "        n//=2\n",
        "    for i in range(3, int(math.sqrt(n))+1,2):\n",
        "        while(n%i == 0):\n",
        "            print(i)\n",
        "            n = n//i\n",
        "    if(n>2):\n",
        "        print(n)"
      ],
      "execution_count": 0,
      "outputs": []
    },
    {
      "cell_type": "code",
      "metadata": {
        "id": "93_2GGG7Xwsj",
        "colab_type": "code",
        "colab": {
          "base_uri": "https://localhost:8080/",
          "height": 101
        },
        "outputId": "4fe099c7-dd86-4fbe-c84c-a9303c407402"
      },
      "source": [
        "x = int(input())\n",
        "prime_factors(x)"
      ],
      "execution_count": 6,
      "outputs": [
        {
          "output_type": "stream",
          "text": [
            "56\n",
            "2\n",
            "2\n",
            "2\n",
            "7\n"
          ],
          "name": "stdout"
        }
      ]
    },
    {
      "cell_type": "code",
      "metadata": {
        "id": "CSj9cquXXwsr",
        "colab_type": "code",
        "colab": {}
      },
      "source": [
        "# 4. Write a program to implement these formulae of permutations and combinations.\n",
        "# Number of permutations of n objects taken r at a time: p(n, r) = n! / (n-r)!. Number of\n",
        "# combinations of n objects taken r at a time is: c(n, r) = n! / (r!*(n-r)!) = p(n,r) / r!\n",
        "\n",
        "import math\n",
        "def calculate_permutation(n, r):\n",
        "    if n>=r:\n",
        "        res = math.factorial(n) // math.factorial(n-r)\n",
        "        return res\n",
        "    else:\n",
        "        return None\n",
        "def calculate_combination(n, r):\n",
        "    if n>=r:\n",
        "        res = math.factorial(n) // (math.factorial(r) * math.factorial(n-r))\n",
        "        return res\n",
        "    else:\n",
        "        return None"
      ],
      "execution_count": 0,
      "outputs": []
    },
    {
      "cell_type": "code",
      "metadata": {
        "id": "_QtVaCKOXws1",
        "colab_type": "code",
        "colab": {},
        "outputId": "9eaa3c0a-4245-4a0e-da4f-97bc6e406fb0"
      },
      "source": [
        "n= int(input())\n",
        "r = int(input())\n",
        "print(calculate_permutation(n, r))\n",
        "print(calculate_combination(n, r))"
      ],
      "execution_count": 0,
      "outputs": [
        {
          "output_type": "stream",
          "text": [
            "4\n",
            "2\n",
            "12\n",
            "6\n"
          ],
          "name": "stdout"
        }
      ]
    },
    {
      "cell_type": "code",
      "metadata": {
        "id": "V4hhREavXwtA",
        "colab_type": "code",
        "colab": {}
      },
      "source": [
        "# 5. Write a function that converts a decimal number to binary number\n",
        "def decimal_to_binary(n):\n",
        "    arr = []\n",
        "    while(n!=0):\n",
        "        rem = n%2\n",
        "        arr.append(rem)\n",
        "        n = n//2\n",
        "    arr.reverse()\n",
        "    s = \"\"\n",
        "    for ele in arr:\n",
        "        s+= str(ele)\n",
        "    return s"
      ],
      "execution_count": 0,
      "outputs": []
    },
    {
      "cell_type": "code",
      "metadata": {
        "id": "MRJ6G8djXwtL",
        "colab_type": "code",
        "colab": {
          "base_uri": "https://localhost:8080/",
          "height": 50
        },
        "outputId": "ebcac557-a996-41cc-a0af-8604d4f324cb"
      },
      "source": [
        "n= int(input())\n",
        "print(decimal_to_binary(n))"
      ],
      "execution_count": 9,
      "outputs": [
        {
          "output_type": "stream",
          "text": [
            "7\n",
            "111\n"
          ],
          "name": "stdout"
        }
      ]
    },
    {
      "cell_type": "code",
      "metadata": {
        "id": "SV7TWdD8XwtV",
        "colab_type": "code",
        "colab": {}
      },
      "source": [
        "# 6. Write a function cubesum() that accepts an integer and returns the sum of the cubes of\n",
        "# individual digits of that number. Use this function to make functions PrintArmstrong() and\n",
        "# isArmstrong() to print Armstrong numbers and to find whether is an Armstrong number\n",
        "import math\n",
        "def cubesum(n):\n",
        "    sum = 0\n",
        "    while(n!=0):\n",
        "        sum+= int(math.pow(n%10, 3))\n",
        "        n = n//10\n",
        "    return sum\n",
        "def printArmstrong(lb, ub):\n",
        "    for i in range(lb,ub+1):\n",
        "        if(isArmstrong(i)):\n",
        "            print(i)\n",
        "\n",
        "def isArmstrong(n):\n",
        "    if(cubesum(n)==n):\n",
        "        return True\n",
        "    else:\n",
        "        return False"
      ],
      "execution_count": 0,
      "outputs": []
    },
    {
      "cell_type": "code",
      "metadata": {
        "id": "D1fbA-RtXwtc",
        "colab_type": "code",
        "colab": {
          "base_uri": "https://localhost:8080/",
          "height": 84
        },
        "outputId": "9904f332-42f3-4e76-8602-2d8a146fa8ee"
      },
      "source": [
        "cubesum(123)\n",
        "printArmstrong(0,333)\n",
        "isArmstrong(333)"
      ],
      "execution_count": 20,
      "outputs": [
        {
          "output_type": "stream",
          "text": [
            "0\n",
            "1\n",
            "153\n"
          ],
          "name": "stdout"
        },
        {
          "output_type": "execute_result",
          "data": {
            "text/plain": [
              "False"
            ]
          },
          "metadata": {
            "tags": []
          },
          "execution_count": 20
        }
      ]
    },
    {
      "cell_type": "code",
      "metadata": {
        "id": "XwOItPKKXwth",
        "colab_type": "code",
        "colab": {}
      },
      "source": [
        "# 7. Write a function prodDigits() that inputs a number and returns the product of digits of that\n",
        "# number.\n",
        "def prod_digits(n):\n",
        "    prod = 1\n",
        "    while(n!=0):\n",
        "        prod = prod * (n% 10)\n",
        "        n= n//10\n",
        "    return prod"
      ],
      "execution_count": 0,
      "outputs": []
    },
    {
      "cell_type": "code",
      "metadata": {
        "id": "sd75v1QLXwto",
        "colab_type": "code",
        "colab": {
          "base_uri": "https://localhost:8080/",
          "height": 34
        },
        "outputId": "0b0adbbe-6475-4100-bbd3-628d898635d1"
      },
      "source": [
        "prod_digits(4135)"
      ],
      "execution_count": 22,
      "outputs": [
        {
          "output_type": "execute_result",
          "data": {
            "text/plain": [
              "60"
            ]
          },
          "metadata": {
            "tags": []
          },
          "execution_count": 22
        }
      ]
    },
    {
      "cell_type": "code",
      "metadata": {
        "id": "al-yeZs8Xwtw",
        "colab_type": "code",
        "colab": {}
      },
      "source": [
        "# 8. If all digits of a number n are multiplied by each other repeating with the product, the one\n",
        "# digit number obtained at last is called the multiplicative digital root of n. The number of\n",
        "# times digits need to be multiplied to reach one digit is called the multiplicative\n",
        "# persistance of n.\n",
        "# Example: 86 -> 48 -> 32 -> 6 (MDR 6, MPersistence 3)\n",
        "#  341 -> 12->2 (MDR 2, MPersistence 2)\n",
        "# Using the function prodDigits() of previous exercise write functions MDR() and\n",
        "# MPersistence() that input a number and return its multiplicative digital root and\n",
        "# multiplicative persistence respectively\n",
        "\n",
        "def MDR(n):\n",
        "    prod=prod_digits(n)\n",
        "    if(len(str(prod))>1):\n",
        "        return MDR(prod)\n",
        "    else:\n",
        "        return prod\n",
        "def Mpersistence(n):\n",
        "    steps = 0\n",
        "    while(len(str(n))>1):\n",
        "        n=prod_digits(n)\n",
        "        steps+=1\n",
        "    return steps"
      ],
      "execution_count": 0,
      "outputs": []
    },
    {
      "cell_type": "code",
      "metadata": {
        "id": "8Yzar-0tXwt4",
        "colab_type": "code",
        "colab": {
          "base_uri": "https://localhost:8080/",
          "height": 34
        },
        "outputId": "b32fb20a-e816-461b-ce64-fa9dced68a30"
      },
      "source": [
        "print(MDR(86))"
      ],
      "execution_count": 24,
      "outputs": [
        {
          "output_type": "stream",
          "text": [
            "6\n"
          ],
          "name": "stdout"
        }
      ]
    },
    {
      "cell_type": "code",
      "metadata": {
        "id": "a9s8wgHNXwt8",
        "colab_type": "code",
        "colab": {
          "base_uri": "https://localhost:8080/",
          "height": 34
        },
        "outputId": "1a39afac-6499-480b-f843-01cbbc132224"
      },
      "source": [
        "print(Mpersistence(86))"
      ],
      "execution_count": 25,
      "outputs": [
        {
          "output_type": "stream",
          "text": [
            "3\n"
          ],
          "name": "stdout"
        }
      ]
    },
    {
      "cell_type": "code",
      "metadata": {
        "id": "Ao_yymJLXwuD",
        "colab_type": "code",
        "colab": {}
      },
      "source": [
        "# 9. Write a function sumPdivisors() that finds the sum of proper divisors of a number. Proper\n",
        "# divisors of a number are those numbers by which the number is divisible, except the\n",
        "# number itself. For example proper divisors of 36 are 1, 2, 3, 4, 6, 9, 18\n",
        "import math\n",
        "# def sumPdivisors(n):\n",
        "# #non-optimized code\n",
        "#     arr = []\n",
        "#     for i in range(1,n):\n",
        "#         if(n%i == 0):\n",
        "#             arr.append(i)\n",
        "# #     print(arr)\n",
        "#     x= set(arr)\n",
        "#     y = list(x)\n",
        "#     z = sum(y)\n",
        "#     return z\n",
        "#optimized code\n",
        "def sumPdivisors(n):\n",
        "    arr = [1]\n",
        "    for i in range(2, int(math.sqrt(n))+1):\n",
        "        if(n % i == 0):\n",
        "            if(n//i != i):\n",
        "                arr.append(n//i)\n",
        "                arr.append(i)\n",
        "            else:\n",
        "                arr.append(i)\n",
        "    z = sum(arr)\n",
        "    return z"
      ],
      "execution_count": 0,
      "outputs": []
    },
    {
      "cell_type": "code",
      "metadata": {
        "id": "kklhF-jTXwuO",
        "colab_type": "code",
        "colab": {
          "base_uri": "https://localhost:8080/",
          "height": 34
        },
        "outputId": "bd061031-a828-489c-ddaf-7d07154200f7"
      },
      "source": [
        "sumPdivisors(10)"
      ],
      "execution_count": 27,
      "outputs": [
        {
          "output_type": "execute_result",
          "data": {
            "text/plain": [
              "8"
            ]
          },
          "metadata": {
            "tags": []
          },
          "execution_count": 27
        }
      ]
    },
    {
      "cell_type": "code",
      "metadata": {
        "id": "h0vD16YXXwuZ",
        "colab_type": "code",
        "colab": {
          "base_uri": "https://localhost:8080/",
          "height": 84
        },
        "outputId": "8007aefe-9cc9-4798-81b7-acf944094835"
      },
      "source": [
        "# 10. A number is called perfect if the sum of proper divisors of that number is equal to the\n",
        "# number. For example 28 is perfect number, since 1+2+4+7+14=28. Write a program to\n",
        "# print all the perfect numbers in a given range\n",
        "x = int(input())\n",
        "for i in range(1,x+1):\n",
        "    if(i== sumPdivisors(i)):\n",
        "        print(i)"
      ],
      "execution_count": 28,
      "outputs": [
        {
          "output_type": "stream",
          "text": [
            "28\n",
            "1\n",
            "6\n",
            "28\n"
          ],
          "name": "stdout"
        }
      ]
    },
    {
      "cell_type": "code",
      "metadata": {
        "id": "lmLPLneJXwue",
        "colab_type": "code",
        "colab": {}
      },
      "source": [
        "# 11. Two different numbers are called amicable numbers if the sum of the proper divisors of\n",
        "# each is equal to the other number. For example 220 and 284 are amicable numbers.\n",
        "# Sum of proper divisors of 220 = 1+2+4+5+10+11+20+22+44+55+110 = 284\n",
        "# Sum of proper divisors of 284 = 1+2+4+71+142 = 220\n",
        "# Write a function to print pairs of amicable numbers in a range\n",
        "\n",
        "def isAmicable(a, b):\n",
        "    if(sumPdivisors(a) == b and sumPdivisors(b) == a):\n",
        "        return True\n",
        "    else:\n",
        "        return False"
      ],
      "execution_count": 0,
      "outputs": []
    },
    {
      "cell_type": "code",
      "metadata": {
        "id": "wf90Xd6RXwul",
        "colab_type": "code",
        "colab": {
          "base_uri": "https://localhost:8080/",
          "height": 34
        },
        "outputId": "e63b2a4e-b214-4fc2-c741-213bc19cc15b"
      },
      "source": [
        "print(isAmicable(220, 284))"
      ],
      "execution_count": 30,
      "outputs": [
        {
          "output_type": "stream",
          "text": [
            "True\n"
          ],
          "name": "stdout"
        }
      ]
    },
    {
      "cell_type": "code",
      "metadata": {
        "id": "cgO1rPHxXwut",
        "colab_type": "code",
        "colab": {
          "base_uri": "https://localhost:8080/",
          "height": 134
        },
        "outputId": "7128253c-d612-40ce-a034-5982d3735e7a"
      },
      "source": [
        "x = int(input())\n",
        "for i in range(1, x+1):\n",
        "    for j in range(1, x+1):\n",
        "        if isAmicable(i, j):\n",
        "            print(i, j)"
      ],
      "execution_count": 31,
      "outputs": [
        {
          "output_type": "stream",
          "text": [
            "500\n",
            "1 1\n",
            "6 6\n",
            "28 28\n",
            "220 284\n",
            "284 220\n",
            "496 496\n"
          ],
          "name": "stdout"
        }
      ]
    },
    {
      "cell_type": "code",
      "metadata": {
        "id": "GR3pyvNsXwu1",
        "colab_type": "code",
        "colab": {},
        "outputId": "494eba75-966c-4e64-b782-571f91a1668e"
      },
      "source": [
        "# 12. Write a program which can filter odd numbers in a list by using filter function\n",
        "x = input()\n",
        "mylist = x.split(\" \") # list of strings\n",
        "arr = [int(i) for i in mylist]\n",
        "# print(arr)\n",
        "res = list(filter(lambda x: x%2, arr))\n",
        "print(res)"
      ],
      "execution_count": 0,
      "outputs": [
        {
          "output_type": "stream",
          "text": [
            "1 2 3 4 5 6 7 8 9 10 11\n",
            "[1, 3, 5, 7, 9, 11]\n"
          ],
          "name": "stdout"
        }
      ]
    },
    {
      "cell_type": "code",
      "metadata": {
        "id": "b74nBZiNXwu6",
        "colab_type": "code",
        "colab": {},
        "outputId": "b8c84461-9f8b-47df-93c0-00d0dfcfff34"
      },
      "source": [
        "# 13. Write a program which can map() to make a list whose elements are cube of elements in\n",
        "# a given list\n",
        "x = input()\n",
        "mylist = x.split(\" \") # list of strings\n",
        "arr = [int(i) for i in mylist]\n",
        "res = list(map(lambda x: x**3, arr))\n",
        "print(res)"
      ],
      "execution_count": 0,
      "outputs": [
        {
          "output_type": "stream",
          "text": [
            "1 2 3 4 5 6 7\n",
            "[1, 8, 27, 64, 125, 216, 343]\n"
          ],
          "name": "stdout"
        }
      ]
    },
    {
      "cell_type": "code",
      "metadata": {
        "id": "xtxn5lKOXwvB",
        "colab_type": "code",
        "colab": {},
        "outputId": "43d91f18-100f-4e17-9d4c-fd8c71c315b0"
      },
      "source": [
        "# 14. Write a program which can map() and filter() to make a list whose elements are cube of\n",
        "# even number in a given list\n",
        "x = input()\n",
        "mylist = x.split(\" \") # list of strings\n",
        "arr = [int(i) for i in mylist]\n",
        "res = list(filter(lambda x: x%2==0, arr))\n",
        "print(res)\n",
        "new_res = list(map(lambda x: x**3, res))\n",
        "print(new_res)"
      ],
      "execution_count": 0,
      "outputs": [
        {
          "output_type": "stream",
          "text": [
            "1 2 3 4 5 6 7 8 9 10 0 11 20\n",
            "[2, 4, 6, 8, 10, 0, 20]\n",
            "[8, 64, 216, 512, 1000, 0, 8000]\n"
          ],
          "name": "stdout"
        }
      ]
    },
    {
      "cell_type": "code",
      "metadata": {
        "id": "5gql5UwKXwvJ",
        "colab_type": "code",
        "colab": {}
      },
      "source": [
        ""
      ],
      "execution_count": 0,
      "outputs": []
    }
  ]
}