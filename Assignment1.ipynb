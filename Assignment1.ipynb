{
 "cells": [
  {
   "cell_type": "code",
   "execution_count": 1,
   "metadata": {},
   "outputs": [
    {
     "name": "stdout",
     "output_type": "stream",
     "text": [
      "2 * 1 = 2\n",
      "2 * 2 = 4\n",
      "2 * 3 = 6\n",
      "2 * 4 = 8\n",
      "2 * 5 = 10\n",
      "2 * 6 = 12\n",
      "2 * 7 = 14\n",
      "2 * 8 = 16\n",
      "2 * 9 = 18\n",
      "2 * 10 = 20\n"
     ]
    }
   ],
   "source": [
    "#1.  Write a function that inputs a number and prints the multiplication table of that number\n",
    "def table(x):\n",
    "    for i in range(1, 11):\n",
    "        print(x, \"*\", i, \"=\", x*i)\n",
    "table(2)"
   ]
  },
  {
   "cell_type": "code",
   "execution_count": 2,
   "metadata": {},
   "outputs": [
    {
     "name": "stdout",
     "output_type": "stream",
     "text": [
      "3 5\n",
      "5 7\n",
      "11 13\n",
      "17 19\n",
      "29 31\n",
      "41 43\n",
      "59 61\n",
      "71 73\n",
      "101 103\n",
      "107 109\n",
      "137 139\n",
      "149 151\n",
      "179 181\n",
      "191 193\n",
      "197 199\n",
      "227 229\n",
      "239 241\n",
      "269 271\n",
      "281 283\n",
      "311 313\n",
      "347 349\n",
      "419 421\n",
      "431 433\n",
      "461 463\n",
      "521 523\n",
      "569 571\n",
      "599 601\n",
      "617 619\n",
      "641 643\n",
      "659 661\n",
      "809 811\n",
      "821 823\n",
      "827 829\n",
      "857 859\n",
      "881 883\n"
     ]
    }
   ],
   "source": [
    "#2. Write a program to print twin primes less than 1000. If two consecutive odd numbers are\n",
    "# both prime then they are known as twin primes\n",
    "import math\n",
    "def chk_prime(x):\n",
    "    if(x<2):\n",
    "        return False\n",
    "    elif x==2:\n",
    "        return True\n",
    "    for i in range(2, int(math.sqrt(x))+1):\n",
    "        if(x % i == 0):\n",
    "            return False\n",
    "            break\n",
    "    return True\n",
    "for i in range(0, 1001):\n",
    "    a = i\n",
    "    b = i+2\n",
    "    if chk_prime(a) and chk_prime(b):\n",
    "        print(a, b)"
   ]
  },
  {
   "cell_type": "code",
   "execution_count": 8,
   "metadata": {},
   "outputs": [],
   "source": [
    "# 3. Write a program to find out the prime factors of a number. Example: prime factors of 56 -\n",
    "# 2, 2, 2, 7\n",
    "def prime_factors(n):\n",
    "    while(n%2==0):\n",
    "        print(2)\n",
    "        n/=2\n",
    "    for i in range(3, int(math.sqrt(n))+1,2):\n",
    "        while(n%i == 0):\n",
    "            print(i)\n",
    "            n = n/i\n",
    "    if(n>2):\n",
    "        print(n)"
   ]
  },
  {
   "cell_type": "code",
   "execution_count": 11,
   "metadata": {},
   "outputs": [
    {
     "name": "stdout",
     "output_type": "stream",
     "text": [
      "150\n",
      "2\n",
      "3\n",
      "5\n",
      "5.0\n"
     ]
    }
   ],
   "source": [
    "x = int(input())\n",
    "prime_factors(x)"
   ]
  },
  {
   "cell_type": "code",
   "execution_count": 31,
   "metadata": {},
   "outputs": [],
   "source": [
    "# 4. Write a program to implement these formulae of permutations and combinations.\n",
    "# Number of permutations of n objects taken r at a time: p(n, r) = n! / (n-r)!. Number of\n",
    "# combinations of n objects taken r at a time is: c(n, r) = n! / (r!*(n-r)!) = p(n,r) / r!\n",
    "\n",
    "import math\n",
    "def calculate_permutation(n, r):\n",
    "    if n>=r:\n",
    "        res = math.factorial(n) // math.factorial(n-r)\n",
    "        return res\n",
    "    else:\n",
    "        return None\n",
    "def calculate_combination(n, r):\n",
    "    if n>=r:\n",
    "        res = math.factorial(n) // (math.factorial(r) * math.factorial(n-r))\n",
    "        return res\n",
    "    else:\n",
    "        return None"
   ]
  },
  {
   "cell_type": "code",
   "execution_count": 33,
   "metadata": {},
   "outputs": [
    {
     "name": "stdout",
     "output_type": "stream",
     "text": [
      "4\n",
      "2\n",
      "12\n",
      "6\n"
     ]
    }
   ],
   "source": [
    "n= int(input())\n",
    "r = int(input())\n",
    "print(calculate_permutation(n, r))\n",
    "print(calculate_combination(n, r))"
   ]
  },
  {
   "cell_type": "code",
   "execution_count": 52,
   "metadata": {},
   "outputs": [],
   "source": [
    "# 5. Write a function that converts a decimal number to binary number\n",
    "def decimal_to_prime(n):\n",
    "    arr = []\n",
    "    while(n!=0):\n",
    "        rem = n%2\n",
    "        arr.append(rem)\n",
    "        n = n//2\n",
    "    arr.reverse()\n",
    "    s = \"\"\n",
    "    for ele in arr:\n",
    "        s+= str(ele)\n",
    "    return s"
   ]
  },
  {
   "cell_type": "code",
   "execution_count": 54,
   "metadata": {},
   "outputs": [
    {
     "name": "stdout",
     "output_type": "stream",
     "text": [
      "33\n",
      "100001\n"
     ]
    }
   ],
   "source": [
    "n= int(input())\n",
    "print(decimal_to_prime(n))"
   ]
  },
  {
   "cell_type": "code",
   "execution_count": 71,
   "metadata": {},
   "outputs": [],
   "source": [
    "# 6. Write a function cubesum() that accepts an integer and returns the sum of the cubes of\n",
    "# individual digits of that number. Use this function to make functions PrintArmstrong() and\n",
    "# isArmstrong() to print Armstrong numbers and to find whether is an Armstrong number\n",
    "import math\n",
    "def cubesum(n):\n",
    "    sum = 0\n",
    "    while(n!=0):\n",
    "        sum+= math.pow(n%10, 3)\n",
    "        n = n//10\n",
    "    return sum\n",
    "def printArmstrong(x):\n",
    "    if(x == cubesum(x)):\n",
    "        return x\n",
    "    else:\n",
    "        return None\n",
    "def isArmstrong(n):\n",
    "    sum=0\n",
    "    z = n\n",
    "    t = len(str(z))\n",
    "    \n",
    "    while(n!=0):\n",
    "        sum+= math.pow(n%10, t)\n",
    "        n = n//10\n",
    "    if(sum == z):\n",
    "        return True\n",
    "    else:\n",
    "        return False"
   ]
  },
  {
   "cell_type": "code",
   "execution_count": 72,
   "metadata": {},
   "outputs": [
    {
     "name": "stdout",
     "output_type": "stream",
     "text": [
      "36.0\n",
      "None\n",
      "False\n"
     ]
    }
   ],
   "source": [
    "print(cubesum(123))\n",
    "print(printArmstrong(333))\n",
    "print(isArmstrong(333))"
   ]
  },
  {
   "cell_type": "code",
   "execution_count": 56,
   "metadata": {},
   "outputs": [],
   "source": [
    "# 7. Write a function prodDigits() that inputs a number and returns the product of digits of that\n",
    "# number.\n",
    "def prod_digits(n):\n",
    "    prod = 1\n",
    "    while(n!=0):\n",
    "        prod = prod * (n% 10)\n",
    "        n= n//10\n",
    "    return prod"
   ]
  },
  {
   "cell_type": "code",
   "execution_count": 57,
   "metadata": {},
   "outputs": [
    {
     "data": {
      "text/plain": [
       "60"
      ]
     },
     "execution_count": 57,
     "metadata": {},
     "output_type": "execute_result"
    }
   ],
   "source": [
    "prod_digits(4135)"
   ]
  },
  {
   "cell_type": "code",
   "execution_count": 110,
   "metadata": {},
   "outputs": [],
   "source": [
    "# 8. If all digits of a number n are multiplied by each other repeating with the product, the one\n",
    "# digit number obtained at last is called the multiplicative digital root of n. The number of\n",
    "# times digits need to be multiplied to reach one digit is called the multiplicative\n",
    "# persistance of n.\n",
    "# Example: 86 -> 48 -> 32 -> 6 (MDR 6, MPersistence 3)\n",
    "#  341 -> 12->2 (MDR 2, MPersistence 2)\n",
    "# Using the function prodDigits() of previous exercise write functions MDR() and\n",
    "# MPersistence() that input a number and return its multiplicative digital root and\n",
    "# multiplicative persistence respectively\n",
    "\n",
    "def MDR(n):\n",
    "    prod = 1\n",
    "    while(n):\n",
    "        prod *= n%10\n",
    "        n = n//10\n",
    "    if(len(str(prod))>1):\n",
    "        return MDR(prod)\n",
    "    else:\n",
    "        return prod\n",
    "def Mpersistence(n):\n",
    "    steps = 0\n",
    "    prod = 1\n",
    "    while(n):\n",
    "        prod *= n%10\n",
    "        n = n//10\n",
    "    if(len(str(prod))>1):\n",
    "        MDR(prod)\n",
    "        steps+=1\n",
    "        return steps\n",
    "    else:\n",
    "        return 1"
   ]
  },
  {
   "cell_type": "code",
   "execution_count": 111,
   "metadata": {},
   "outputs": [
    {
     "name": "stdout",
     "output_type": "stream",
     "text": [
      "6\n"
     ]
    }
   ],
   "source": [
    "print(MDR(86))"
   ]
  },
  {
   "cell_type": "code",
   "execution_count": 112,
   "metadata": {},
   "outputs": [
    {
     "name": "stdout",
     "output_type": "stream",
     "text": [
      "1\n"
     ]
    }
   ],
   "source": [
    "print(Mpersistence(86))"
   ]
  },
  {
   "cell_type": "code",
   "execution_count": 1,
   "metadata": {},
   "outputs": [],
   "source": [
    "# 9. Write a function sumPdivisors() that finds the sum of proper divisors of a number. Proper\n",
    "# divisors of a number are those numbers by which the number is divisible, except the\n",
    "# number itself. For example proper divisors of 36 are 1, 2, 3, 4, 6, 9, 18\n",
    "import math\n",
    "# def sumPdivisors(n):\n",
    "# #non-optimized code\n",
    "#     arr = []\n",
    "#     for i in range(1,n):\n",
    "#         if(n%i == 0):\n",
    "#             arr.append(i)\n",
    "# #     print(arr)\n",
    "#     x= set(arr)\n",
    "#     y = list(x)\n",
    "#     z = sum(y)\n",
    "#     return z\n",
    "#optimized code\n",
    "def sumPdivisors(n):\n",
    "    arr = [1]\n",
    "    for i in range(2, int(math.sqrt(n))+1):\n",
    "        if(n % i == 0):\n",
    "            if(n//i != i):\n",
    "                arr.append(n//i)\n",
    "                arr.append(i)\n",
    "            else:\n",
    "                arr.append(i)\n",
    "    z = sum(arr)\n",
    "    return z"
   ]
  },
  {
   "cell_type": "code",
   "execution_count": 2,
   "metadata": {},
   "outputs": [
    {
     "data": {
      "text/plain": [
       "8"
      ]
     },
     "execution_count": 2,
     "metadata": {},
     "output_type": "execute_result"
    }
   ],
   "source": [
    "sumPdivisors(10)"
   ]
  },
  {
   "cell_type": "code",
   "execution_count": 3,
   "metadata": {},
   "outputs": [
    {
     "name": "stdout",
     "output_type": "stream",
     "text": [
      "30\n",
      "1\n",
      "6\n",
      "28\n"
     ]
    }
   ],
   "source": [
    "# 10. A number is called perfect if the sum of proper divisors of that number is equal to the\n",
    "# number. For example 28 is perfect number, since 1+2+4+7+14=28. Write a program to\n",
    "# print all the perfect numbers in a given range\n",
    "x = int(input())\n",
    "for i in range(1,x+1):\n",
    "    if(i== sumPdivisors(i)):\n",
    "        print(i)"
   ]
  },
  {
   "cell_type": "code",
   "execution_count": 4,
   "metadata": {},
   "outputs": [],
   "source": [
    "# 11. Two different numbers are called amicable numbers if the sum of the proper divisors of\n",
    "# each is equal to the other number. For example 220 and 284 are amicable numbers.\n",
    "# Sum of proper divisors of 220 = 1+2+4+5+10+11+20+22+44+55+110 = 284\n",
    "# Sum of proper divisors of 284 = 1+2+4+71+142 = 220\n",
    "# Write a function to print pairs of amicable numbers in a range\n",
    "\n",
    "def isAmicable(a, b):\n",
    "    if(sumPdivisors(a) == b and sumPdivisors(b) == a):\n",
    "        return True\n",
    "    else:\n",
    "        return False"
   ]
  },
  {
   "cell_type": "code",
   "execution_count": 5,
   "metadata": {},
   "outputs": [
    {
     "name": "stdout",
     "output_type": "stream",
     "text": [
      "True\n"
     ]
    }
   ],
   "source": [
    "print(isAmicable(220, 284))"
   ]
  },
  {
   "cell_type": "code",
   "execution_count": 6,
   "metadata": {},
   "outputs": [
    {
     "name": "stdout",
     "output_type": "stream",
     "text": [
      "300\n",
      "1 1\n",
      "6 6\n",
      "28 28\n",
      "220 284\n",
      "284 220\n"
     ]
    }
   ],
   "source": [
    "x = int(input())\n",
    "for i in range(1, x+1):\n",
    "    for j in range(1, x+1):\n",
    "        if isAmicable(i, j):\n",
    "            print(i, j)"
   ]
  },
  {
   "cell_type": "code",
   "execution_count": 136,
   "metadata": {},
   "outputs": [
    {
     "name": "stdout",
     "output_type": "stream",
     "text": [
      "1 2 3 4 5 6 7 8 9 10 11\n",
      "[1, 3, 5, 7, 9, 11]\n"
     ]
    }
   ],
   "source": [
    "# 12. Write a program which can filter odd numbers in a list by using filter function\n",
    "x = input()\n",
    "mylist = x.split(\" \") # list of strings\n",
    "arr = [int(i) for i in mylist]\n",
    "# print(arr)\n",
    "res = list(filter(lambda x: x%2, arr))\n",
    "print(res)"
   ]
  },
  {
   "cell_type": "code",
   "execution_count": 138,
   "metadata": {},
   "outputs": [
    {
     "name": "stdout",
     "output_type": "stream",
     "text": [
      "1 2 3 4 5 6 7\n",
      "[1, 8, 27, 64, 125, 216, 343]\n"
     ]
    }
   ],
   "source": [
    "# 13. Write a program which can map() to make a list whose elements are cube of elements in\n",
    "# a given list\n",
    "x = input()\n",
    "mylist = x.split(\" \") # list of strings\n",
    "arr = [int(i) for i in mylist]\n",
    "res = list(map(lambda x: x**3, arr))\n",
    "print(res)"
   ]
  },
  {
   "cell_type": "code",
   "execution_count": 139,
   "metadata": {},
   "outputs": [
    {
     "name": "stdout",
     "output_type": "stream",
     "text": [
      "1 2 3 4 5 6 7 8 9 10 0 11 20\n",
      "[2, 4, 6, 8, 10, 0, 20]\n",
      "[8, 64, 216, 512, 1000, 0, 8000]\n"
     ]
    }
   ],
   "source": [
    "# 14. Write a program which can map() and filter() to make a list whose elements are cube of\n",
    "# even number in a given list\n",
    "x = input()\n",
    "mylist = x.split(\" \") # list of strings\n",
    "arr = [int(i) for i in mylist]\n",
    "res = list(filter(lambda x: x%2==0, arr))\n",
    "print(res)\n",
    "new_res = list(map(lambda x: x**3, res))\n",
    "print(new_res)"
   ]
  },
  {
   "cell_type": "code",
   "execution_count": null,
   "metadata": {},
   "outputs": [],
   "source": []
  }
 ],
 "metadata": {
  "kernelspec": {
   "display_name": "Python 3",
   "language": "python",
   "name": "python3"
  },
  "language_info": {
   "codemirror_mode": {
    "name": "ipython",
    "version": 3
   },
   "file_extension": ".py",
   "mimetype": "text/x-python",
   "name": "python",
   "nbconvert_exporter": "python",
   "pygments_lexer": "ipython3",
   "version": "3.7.1"
  }
 },
 "nbformat": 4,
 "nbformat_minor": 2
}
